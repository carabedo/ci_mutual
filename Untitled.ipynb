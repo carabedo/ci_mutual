{
 "cells": [
  {
   "cell_type": "code",
   "execution_count": 61,
   "id": "119ce906",
   "metadata": {},
   "outputs": [],
   "source": [
    "# implementacion del paper theo2007\n",
    "# mutual impedanci 2 coils arbitrary position\n",
    "\n",
    "import pandas as pd\n",
    "from scipy import integrate\n",
    "from scipy import special\n",
    "import numpy as np\n",
    "import math\n",
    "\n",
    "# Examples\n",
    "\n",
    "# Compute the double integral of x * y**2 over the box x ranging from 0 to 2 and y ranging from 0 to 1.\n",
    "\n",
    "# from scipy import integrate\n",
    "# f = lambda y, x: x*y**2\n",
    "# integrate.dblquad(f, 0, 2, lambda x: 0, lambda x: 1)\n",
    "#     (0.6666666666666667, 7.401486830834377e-15)\n",
    "\n",
    "f=1000\n",
    "lim=1000\n",
    "w=2*np.pi*f\n",
    "mu0=1.26e-6\n",
    "\n",
    "## tabla1\n",
    "#driver\n",
    "dr1=7.04e-3\n",
    "dr2=12.2e-3\n",
    "dl=5.04e-3\n",
    "dN=544\n",
    "dl0=5.55e-6\n",
    "dn=dN/((dr2 -dr1)*dl)\n",
    "\n",
    "\n",
    "#pickup\n",
    "pr1=7.04e-3\n",
    "pr2=12.40e-3\n",
    "pl=5.04e-3\n",
    "pN=556\n",
    "pl0=5.84e-6\n",
    "pn=pN/((pr2 -pr1)*pl)\n",
    "\n",
    "#placa\n",
    "sigma1=29.4e6\n",
    "mu1=1\n",
    "c1=2.47e-3\n",
    "\n",
    "\n",
    "## config\n",
    "# driver\n",
    "dtita=0\n",
    "dji=0\n",
    "dx0=0\n",
    "dy0=0\n",
    "dl0=3.08e-3\n",
    "# pickup\n",
    "ptita=0\n",
    "pji=90\n",
    "px0=28e-3\n",
    "py0=0\n",
    "pl0=3.1e-3\n",
    "\n",
    "# r1,r2,l,n,tita,ji,x0,y0,l0=coil\n",
    "\n",
    "coil_d=[dr1,dr2,dl,dn,dtita,dji,dx0,dy0,dl0]\n",
    "coil_p=[pr1,pr2,pl,pn,ptita,pji,px0,py0,pl0]\n"
   ]
  },
  {
   "cell_type": "code",
   "execution_count": 56,
   "id": "d9fd90bf",
   "metadata": {},
   "outputs": [],
   "source": [
    "def psi(u,v,tita):\n",
    "    ps=u*np.sin(tita) + 1j*a(u,v)*np.cos(tita) \n",
    "    return ps\n",
    "\n",
    "\n",
    "def I(x1,x2):\n",
    "    return integrate.quad(lambda x: x*special.iv(1,x), x1, x2)[0]\n",
    "\n",
    "\n",
    "def H(u,v,coil):\n",
    "    r1,r2,l,n,tita,ji,x0,y0,l0=coil\n",
    "    d= l0 + r2*np.sin(tita) + (l/2)*np.cos(tita)\n",
    "    h=1j*n*I(psi(u,v,tita)*r1,psi(u,v,tita)*r2)*np.exp(-a(u,v)*d)*np.sin(psi(u,v,tita)*l/2)/psi(u,v,tita)**3\n",
    "    return h\n",
    "\n",
    "\n",
    "def R(u,v):\n",
    "    a1=a(u,v)\n",
    "    b1=np.sqrt(a1**2 + 1j*w*mu1*mu0*sigma1)/mu1 \n",
    "    r=(a1-b1)/(a1+b1)  \n",
    "    return r\n",
    "\n",
    "def a(u,v):\n",
    "    return np.sqrt(u**2+ v**2)\n",
    "\n",
    "def mutual(coil_d,coil_p,frec):\n",
    "    f = lambda v, u: (a(u,v)**-1)*H(u,v,coil_d)*H(-u,-v,coil_p)*R(u,v)\n",
    "    w=2*np.pi*frec\n",
    "\n",
    "    dz=2*w*mu0*integrate.dblquad(f, -lim, lim, lambda u: -lim, lambda u: lim)[0]\n",
    "    return dz"
   ]
  },
  {
   "cell_type": "code",
   "execution_count": 57,
   "id": "8833fe22",
   "metadata": {},
   "outputs": [
    {
     "name": "stderr",
     "output_type": "stream",
     "text": [
      "C:\\Users\\TodosC2\\AppData\\Local\\Temp/ipykernel_4192/627808472.py:27: RuntimeWarning: divide by zero encountered in double_scalars\n",
      "  f = lambda v, u: (a(u,v)**-1)*H(u,v,coil_d)*H(-u,-v,coil_p)*R(u,v)\n",
      "C:\\Users\\TodosC2\\AppData\\Local\\Temp/ipykernel_4192/627808472.py:13: RuntimeWarning: invalid value encountered in cdouble_scalars\n",
      "  h=1j*n*I(psi(u,v,tita)*r1,psi(u,v,tita)*r2)*np.exp(-a(u,v)*d)*np.sin(psi(u,v,tita)*l/2)/psi(u,v,tita)**3\n"
     ]
    },
    {
     "data": {
      "text/plain": [
       "nan"
      ]
     },
     "execution_count": 57,
     "metadata": {},
     "output_type": "execute_result"
    }
   ],
   "source": [
    "mutual(coil_d,coil_p,100)"
   ]
  },
  {
   "cell_type": "code",
   "execution_count": 58,
   "id": "92e37da3",
   "metadata": {},
   "outputs": [
    {
     "data": {
      "text/plain": [
       "-0.4480736161291701"
      ]
     },
     "execution_count": 58,
     "metadata": {},
     "output_type": "execute_result"
    }
   ],
   "source": [
    "np.cos(90)"
   ]
  },
  {
   "cell_type": "code",
   "execution_count": 60,
   "id": "937cd0d7",
   "metadata": {},
   "outputs": [
    {
     "data": {
      "text/plain": [
       "1.5707963267948966"
      ]
     },
     "execution_count": 60,
     "metadata": {},
     "output_type": "execute_result"
    }
   ],
   "source": [
    "math.radians(90)"
   ]
  }
 ],
 "metadata": {
  "kernelspec": {
   "display_name": "Python 3 (ipykernel)",
   "language": "python",
   "name": "python3"
  },
  "language_info": {
   "codemirror_mode": {
    "name": "ipython",
    "version": 3
   },
   "file_extension": ".py",
   "mimetype": "text/x-python",
   "name": "python",
   "nbconvert_exporter": "python",
   "pygments_lexer": "ipython3",
   "version": "3.9.5"
  }
 },
 "nbformat": 4,
 "nbformat_minor": 5
}
