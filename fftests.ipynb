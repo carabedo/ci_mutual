{
 "cells": [
  {
   "cell_type": "code",
   "execution_count": 4,
   "metadata": {},
   "outputs": [
    {
     "data": {
      "text/html": [
       "<script>requirejs.config({paths: { 'plotly': ['https://cdn.plot.ly/plotly-latest.min']},});if(!window.Plotly) {{require(['plotly'],function(plotly) {window.Plotly=plotly;});}}</script>"
      ],
      "text/vnd.plotly.v1+html": [
       "<script>requirejs.config({paths: { 'plotly': ['https://cdn.plot.ly/plotly-latest.min']},});if(!window.Plotly) {{require(['plotly'],function(plotly) {window.Plotly=plotly;});}}</script>"
      ]
     },
     "metadata": {},
     "output_type": "display_data"
    }
   ],
   "source": [
    "import numpy as np\n",
    "import plotly.graph_objs as go\n",
    "import plotly\n",
    "plotly.offline.init_notebook_mode(connected=True)"
   ]
  },
  {
   "cell_type": "markdown",
   "metadata": {},
   "source": [
    "Si tenes\n",
    "\n",
    "```python \n",
    "fx= exp(-c*abs(x))\n",
    "``` \n",
    "la tranformada de esto es \n",
    "\n",
    "```python \n",
    "Fk=2*c./(c^2 + k.^2)\n",
    "``` \n",
    "ponele que **yo quiero graficar fx en un intervalo x=[a:dx:b]**, pero solo tengo Fk, entonces deberia obtener fx haciendo ifft(Fk) luego de haber sampleaado Fk en un invertalo de k que no tengo idea  pero  deberia tener alguna relacion con a b y dx\n",
    "\n",
    "entonces luego de hacer:\n",
    "```python \n",
    "f2=ifftshift(ifft(Fk))\n",
    "``` \n",
    "\n",
    "haciendo \n",
    "```python \n",
    "plot(x,f2)\n",
    "``` \n",
    "\n",
    "deberia superponerse con \n",
    "```python \n",
    "plot(x,f)\n",
    "``` \n",
    "\n",
    "\n",
    "deberia...\n",
    "\n",
    "pero no anda"
   ]
  },
  {
   "cell_type": "markdown",
   "metadata": {},
   "source": [
    "### defino intervalos:"
   ]
  },
  {
   "cell_type": "code",
   "execution_count": 5,
   "metadata": {},
   "outputs": [
    {
     "name": "stdout",
     "output_type": "stream",
     "text": [
      "81\n",
      "81.0\n"
     ]
    },
    {
     "name": "stderr",
     "output_type": "stream",
     "text": [
      "C:\\Users\\TodosC2\\Miniconda3\\lib\\site-packages\\ipykernel_launcher.py:5: DeprecationWarning:\n",
      "\n",
      "object of type <class 'float'> cannot be safely interpreted as an integer.\n",
      "\n",
      "C:\\Users\\TodosC2\\Miniconda3\\lib\\site-packages\\ipykernel_launcher.py:12: DeprecationWarning:\n",
      "\n",
      "object of type <class 'float'> cannot be safely interpreted as an integer.\n",
      "\n"
     ]
    }
   ],
   "source": [
    "a=-4\n",
    "b=4\n",
    "dx=0.1\n",
    "Nx=(b-a)/dx+1\n",
    "x=np.linspace(a,b,Nx)\n",
    "print(len(x))\n",
    "print(Nx)\n",
    "\n",
    "\n",
    "dk=1/(b-a)\n",
    "Nk=(2/dx)/dk+1\n",
    "k=np.linspace(-1/dx, 1/dx,Nx)\n"
   ]
  },
  {
   "cell_type": "markdown",
   "metadata": {},
   "source": [
    "### ordeno k para meterlo en la ifft\n",
    "segun:\n",
    "\n",
    " If A = fft(a, n), then A[0] contains the zero-frequency term (the sum of the signal), which is always purely real for real inputs. Then A[1:n/2] contains the positive-frequency terms, and A[n/2+1:] contains the negative-frequency terms, in order of decreasingly negative frequency. For an even number of input points, A[n/2] represents both positive and negative Nyquist frequency, and is also purely real for real input. For an odd number of input points, A[(n-1)/2] contains the largest positive frequency, while A[(n+1)/2] contains the largest negative frequency. "
   ]
  },
  {
   "cell_type": "code",
   "execution_count": 14,
   "metadata": {
    "collapsed": true
   },
   "outputs": [],
   "source": [
    "k0=np.array(k[int((Nx+1)/2) -1] )\n",
    "kn=k[0:int((Nx+1)/2) -1]\n",
    "kp=k[int((Nx+1)/2):]\n",
    "ks=np.append(k0,[kp,kn])"
   ]
  },
  {
   "cell_type": "markdown",
   "metadata": {},
   "source": [
    "\n",
    "### defino funciones\n"
   ]
  },
  {
   "cell_type": "code",
   "execution_count": 15,
   "metadata": {
    "scrolled": true
   },
   "outputs": [
    {
     "data": {
      "image/png": "[encoded data removed]",
      "text/plain": [
       "<matplotlib.figure.Figure at 0x310e208>"
      ]
     },
     "metadata": {},
     "output_type": "display_data"
    }
   ],
   "source": [
    "c=2\n",
    "\n",
    "fx=np.exp(c*-abs(x))\n",
    "Fk=(2*c)/((4*np.pi*np.pi*ks**2)+ c*c)\n",
    "\n",
    "\n",
    "fx2=np.fft.ifft(Fk,norm =\"ortho\")\n",
    "\n",
    "fx2s=np.fft.fftshift(fx2) #vuelvo al orden normal\n",
    "\n",
    "plot(x,np.real(fx2s),'ro')\n",
    "plot(x,fx,'k')\n",
    "grid(True)"
   ]
  },
  {
   "cell_type": "markdown",
   "metadata": {},
   "source": [
    "### pruebo DFTs por que freitas asi lo hubiese querido"
   ]
  },
  {
   "cell_type": "code",
   "execution_count": null,
   "metadata": {},
   "outputs": [],
   "source": [
    "c=3\n",
    "fx=np.sin(c*x)\n",
    "Fk=(2*c)/((4*np.pi*np.pi*ks**2)+ c*c)\n",
    "\n",
    "\n",
    "fx2=np.fft.ifft(Fk,norm =\"ortho\")\n",
    "\n",
    "fx2s=np.fft.fftshift(fx2) #vuelvo al orden normal\n",
    "\n",
    "plot(x,np.real(fx2s),'ro')\n",
    "plot(x,fx,'k')\n",
    "grid(True)"
   ]
  },
  {
   "cell_type": "code",
   "execution_count": null,
   "metadata": {},
   "outputs": [],
   "source": []
  },
  {
   "cell_type": "code",
   "execution_count": null,
   "metadata": {
    "scrolled": true
   },
   "outputs": [],
   "source": []
  },
  {
   "cell_type": "code",
   "execution_count": null,
   "metadata": {},
   "outputs": [],
   "source": []
  },
  {
   "cell_type": "code",
   "execution_count": null,
   "metadata": {},
   "outputs": [],
   "source": []
  },
  {
   "cell_type": "code",
   "execution_count": null,
   "metadata": {},
   "outputs": [],
   "source": []
  },
  {
   "cell_type": "code",
   "execution_count": null,
   "metadata": {},
   "outputs": [],
   "source": []
  },
  {
   "cell_type": "markdown",
   "metadata": {},
   "source": [
    "https://dsp.stackexchange.com/questions/40766/calculating-values-of-frequency-bins-in-python\n",
    "https://dsp.stackexchange.com/questions/8384/what-is-the-relationship-between-frequency-vector-and-the-peak-frequency-in-fft"
   ]
  }
 ],
 "metadata": {
  "kernelspec": {
   "display_name": "Python 3 (ipykernel)",
   "language": "python",
   "name": "python3"
  },
  "language_info": {
   "codemirror_mode": {
    "name": "ipython",
    "version": 3
   },
   "file_extension": ".py",
   "mimetype": "text/x-python",
   "name": "python",
   "nbconvert_exporter": "python",
   "pygments_lexer": "ipython3",
   "version": "3.9.6"
  }
 },
 "nbformat": 4,
 "nbformat_minor": 2
}
