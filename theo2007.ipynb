{
 "cells": [
  {
   "cell_type": "code",
   "execution_count": 1,
   "id": "119ce906",
   "metadata": {},
   "outputs": [],
   "source": [
    "# implementacion del paper theo2007\n",
    "# mutual impedanci 2 coils arbitrary position\n",
    "\n",
    "import pandas as pd\n",
    "from scipy import integrate\n",
    "from scipy import special\n",
    "import numpy as np\n",
    "import math\n",
    "\n",
    "# Examples\n",
    "\n",
    "# Compute the double integral of x * y**2 over the box x ranging from 0 to 2 and y ranging from 0 to 1.\n",
    "\n",
    "# from scipy import integrate\n",
    "# f = lambda y, x: x*y**2\n",
    "# integrate.dblquad(f, 0, 2, lambda x: 0, lambda x: 1)\n",
    "#     (0.6666666666666667, 7.401486830834377e-15)\n",
    "\n",
    "\n",
    "lim=1000\n",
    "frec=100\n",
    "w=2*np.pi*frec\n",
    "mu0=1.26e-6\n",
    "\n",
    "## tabla1\n",
    "#driver\n",
    "dr1=7.04e-3\n",
    "dr2=12.2e-3\n",
    "dl=5.04e-3\n",
    "dN=544\n",
    "dL0=5.55e-6\n",
    "dn=dN/((dr2 -dr1)*dl)\n",
    "\n",
    "\n",
    "#pickup\n",
    "pr1=7.04e-3\n",
    "pr2=12.40e-3\n",
    "pl=5.04e-3\n",
    "pN=556\n",
    "pL0=5.84e-6\n",
    "pn=pN/((pr2 -pr1)*pl)\n",
    "\n",
    "#placa\n",
    "sigma1=29.4e6\n",
    "mu1=1\n",
    "c1=2.47e-3\n",
    "\n",
    "\n",
    "## config\n",
    "# driver\n",
    "dtita=0\n",
    "dji=0\n",
    "dx0=0\n",
    "dy0=0\n",
    "dl0=3.08e-3\n",
    "\n",
    "# pickup\n",
    "ptita=0\n",
    "pji=math.radians(90)\n",
    "px0=28e-3\n",
    "py0=0\n",
    "pl0=3.1e-3\n",
    "\n",
    "# r1,r2,l,n,tita,ji,x0,y0,l0=coil\n",
    "\n",
    "coil_d=[dr1,dr2,dl,dn,dtita,dji,dx0,dy0,dl0]\n",
    "coil_p=[pr1,pr2,pl,pn,ptita,pji,px0,py0,pl0]\n"
   ]
  },
  {
   "cell_type": "code",
   "execution_count": 20,
   "id": "d9fd90bf",
   "metadata": {},
   "outputs": [],
   "source": [
    "\n",
    "\n",
    "def a(u,v):\n",
    "    return np.sqrt(u**2+ v**2)\n",
    "\n",
    "def psi(u,v,tita):\n",
    "    ps=u*np.sin(tita) + 1j*a(u,v)*np.cos(tita) \n",
    "\n",
    "    return ps\n",
    "\n",
    "def R(u,v,w):\n",
    "    a1=a(u,v)\n",
    "    b1=np.sqrt(a1**2 + 1j*w*mu1*mu0*sigma1)/mu1 \n",
    "    r=(a1-b1)/(a1+b1)  \n",
    "    return r\n",
    "\n",
    "def Is(z1,z2,klen=10):\n",
    "    y=z2*special.iv(0,z2)-z1*special.iv(0,z1)-zum(klen,z1,z2)\n",
    "    return y\n",
    "\n",
    "def zum(klen,z1,z2):\n",
    "    x=[]\n",
    "    for k in range(0,klen):\n",
    "        x.append((special.iv(2*k+1,z2)-special.iv(2*k+1,z1))*(-1)**k)\n",
    "    return np.array(x).sum()\n",
    "\n",
    "def H(uu,vv,coil):\n",
    "    '''fast H'''\n",
    "    r1,r2,l,n,tita,ji,x0,y0,l0=coil\n",
    "    d= l0 + r2*np.sin(np.abs(tita)) + (l/2)*np.cos(tita)\n",
    "    u=uu*np.cos(ji)+vv*np.sin(ji)\n",
    "    v=-uu*np.sin(ji)+vv*np.cos(ji)\n",
    "    h=1j*n*Is(psi(u,v,tita)*r1,psi(u,v,tita)*r2)*expsin(u,v,d,tita,l)/psi(u,v,tita)**3\n",
    "    hp=h*np.exp(1j*uu*x0)*np.exp(1j*vv*y0)\n",
    "    return hp\n",
    "\n",
    "def expsin(u,v,d,tita,l):\n",
    "    y=np.exp(1j*psi(u,v,tita)*l/2 - a(u,v)*d)-np.exp(-1j*psi(u,v,tita)*l/2 - a(u,v)*d)\n",
    "    return y/2j\n",
    "\n",
    "def int_re(u,v,coil_d,coil_p,w):\n",
    "    return np.real((a(u,v)**-1)*H(u,v,coil_d)*H(-u,-v,coil_p)*R(u,v,w))\n",
    "\n",
    "def int_im(u,v,coil_d,coil_p,w):\n",
    "    return np.imag((a(u,v)**-1)*H(u,v,coil_d)*H(-u,-v,coil_p)*R(u,v,w))\n",
    "\n",
    "def mutual(coil_d,coil_p,frec):\n",
    "    w=2*np.pi*frec\n",
    "    f = lambda v, u: int_re(u,v,coil_d,coil_p,w)\n",
    "    dzn=2*w*mu0*integrate.dblquad(f, 0.1, lim, lambda u: 0.1, lambda u: lim)[0]\n",
    "    dzp=2*w*mu0*integrate.dblquad(f, -lim, -0.1, lambda u: -lim, lambda u: -0.1)[0]\n",
    "    return dzn+dzp"
   ]
  },
  {
   "cell_type": "code",
   "execution_count": 40,
   "id": "b44acb08",
   "metadata": {},
   "outputs": [
    {
     "data": {
      "text/plain": [
       "-6488.880253698059"
      ]
     },
     "execution_count": 40,
     "metadata": {},
     "output_type": "execute_result"
    }
   ],
   "source": [
    "f = lambda v, u: int_re(u,v,coil_d,coil_p,w)\n",
    "\n",
    "f(1,1)"
   ]
  },
  {
   "cell_type": "code",
   "execution_count": 41,
   "id": "049c5347",
   "metadata": {},
   "outputs": [
    {
     "data": {
      "text/plain": [
       "628.3185307179587"
      ]
     },
     "execution_count": 41,
     "metadata": {},
     "output_type": "execute_result"
    }
   ],
   "source": [
    "w"
   ]
  },
  {
   "cell_type": "code",
   "execution_count": 21,
   "id": "4fa87dd2",
   "metadata": {},
   "outputs": [
    {
     "data": {
      "text/plain": [
       "array([   100.        ,    215.443469  ,    464.15888336,   1000.        ,\n",
       "         2154.43469003,   4641.58883361,  10000.        ,  21544.34690032,\n",
       "        46415.88833613, 100000.        ])"
      ]
     },
     "execution_count": 21,
     "metadata": {},
     "output_type": "execute_result"
    }
   ],
   "source": [
    "fv=np.logspace(2,5,10)\n",
    "fv"
   ]
  },
  {
   "cell_type": "code",
   "execution_count": 22,
   "id": "7b855136",
   "metadata": {},
   "outputs": [
    {
     "data": {
      "text/plain": [
       "-338.9058730120622"
      ]
     },
     "execution_count": 22,
     "metadata": {},
     "output_type": "execute_result"
    }
   ],
   "source": [
    "mutual(coil_d,coil_p,frec)"
   ]
  },
  {
   "cell_type": "code",
   "execution_count": 23,
   "id": "8833fe22",
   "metadata": {
    "scrolled": true
   },
   "outputs": [],
   "source": [
    "M=[]\n",
    "for f in fv:\n",
    "    M.append(mutual(coil_d,coil_p,f))"
   ]
  },
  {
   "cell_type": "code",
   "execution_count": 24,
   "id": "42d0de61",
   "metadata": {},
   "outputs": [
    {
     "data": {
      "text/plain": [
       "array([-0.53938545, -0.54121723, -0.54246897, -0.54332361, -0.54390674,\n",
       "       -0.54430436, -0.54457536, -0.54476002, -0.54488585, -0.54497158])"
      ]
     },
     "execution_count": 24,
     "metadata": {},
     "output_type": "execute_result"
    }
   ],
   "source": [
    "M/(2*np.pi*fv)"
   ]
  },
  {
   "cell_type": "code",
   "execution_count": 25,
   "id": "499c8176",
   "metadata": {},
   "outputs": [
    {
     "data": {
      "image/png": "[encoded data removed]",
      "text/plain": [
       "<Figure size 720x432 with 1 Axes>"
      ]
     },
     "metadata": {
      "needs_background": "light"
     },
     "output_type": "display_data"
    }
   ],
   "source": [
    "import matplotlib.pyplot as plt\n",
    "\n",
    "plt.figure(figsize=[10,6])\n",
    "plt.semilogx(fv,M,'o-')\n",
    "plt.grid(True)\n",
    "\n"
   ]
  }
 ],
 "metadata": {
  "kernelspec": {
   "display_name": "Python 3 (ipykernel)",
   "language": "python",
   "name": "python3"
  },
  "language_info": {
   "codemirror_mode": {
    "name": "ipython",
    "version": 3
   },
   "file_extension": ".py",
   "mimetype": "text/x-python",
   "name": "python",
   "nbconvert_exporter": "python",
   "pygments_lexer": "ipython3",
   "version": "3.9.6"
  }
 },
 "nbformat": 4,
 "nbformat_minor": 5
}
