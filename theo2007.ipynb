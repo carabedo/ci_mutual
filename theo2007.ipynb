{
 "cells": [
  {
   "cell_type": "code",
   "execution_count": 195,
   "id": "119ce906",
   "metadata": {},
   "outputs": [],
   "source": [
    "# implementacion del paper theo2007\n",
    "# mutual impedanci 2 coils arbitrary position\n",
    "\n",
    "import pandas as pd\n",
    "from scipy import integrate\n",
    "from scipy import special\n",
    "import numpy as np\n",
    "import math\n",
    "import matplotlib.pyplot as plt\n",
    "\n",
    "\n",
    "# Examples\n",
    "\n",
    "# Compute the double integral of x * y**2 over the box x ranging from 0 to 2 and y ranging from 0 to 1.\n",
    "\n",
    "# from scipy import integrate\n",
    "# f = lambda y, x: x*y**2\n",
    "# integrate.dblquad(f, 0, 2, lambda x: 0, lambda x: 1)\n",
    "#     (0.6666666666666667, 7.401486830834377e-15)\n",
    "\n",
    "\n",
    "lim=500\n",
    "\n",
    "mu0=1.26e-6\n",
    "\n",
    "## tabla1\n",
    "#driver\n",
    "dr1=7.04e-3\n",
    "dr2=12.2e-3\n",
    "dl=5.04e-3\n",
    "dN=544\n",
    "dL0=5.55e-6\n",
    "dn=dN/((dr2 -dr1)*dl)\n",
    "\n",
    "\n",
    "#pickup\n",
    "pr1=7.04e-3\n",
    "pr2=12.40e-3\n",
    "pl=5.04e-3\n",
    "pN=556\n",
    "pL0=5.84e-6\n",
    "pn=pN/((pr2 -pr1)*pl)\n",
    "\n",
    "#placa\n",
    "sigma1=29.4e6\n",
    "mu1=1\n",
    "c1=2.47e-3\n",
    "\n",
    "\n",
    "## config\n",
    "# driver\n",
    "dtita=0\n",
    "dji=0\n",
    "dx0=0\n",
    "dy0=0\n",
    "dl0=3.08e-3\n",
    "\n",
    "# pickup\n",
    "ptita=0\n",
    "pji=math.radians(90)\n",
    "px0=28e-3\n",
    "py0=0\n",
    "pl0=3.1e-3\n",
    "\n",
    "# r1,r2,l,n,tita,ji,x0,y0,l0=coil\n",
    "\n",
    "coil_d=[dr1,dr2,dl,dn,dtita,dji,dx0,dy0,dl0]\n",
    "coil_p=[pr1,pr2,pl,pn,ptita,pji,px0,py0,pl0]\n"
   ]
  },
  {
   "cell_type": "code",
   "execution_count": 196,
   "id": "d9fd90bf",
   "metadata": {},
   "outputs": [],
   "source": [
    "\n",
    "\n",
    "def a(u,v):\n",
    "    return np.sqrt(u**2+ v**2)\n",
    "\n",
    "def psi(u,v,tita):\n",
    "    ps=u*np.sin(tita) + 1j*a(u,v)*np.cos(tita) \n",
    "\n",
    "    return ps\n",
    "\n",
    "def R(u,v,w):\n",
    "    a1=a(u,v)\n",
    "    b1=np.sqrt(a1**2 + 1j*w*mu1*mu0*sigma1)/mu1 \n",
    "    r=(a1-b1)/(a1+b1)  \n",
    "    return r\n",
    "\n",
    "\n",
    "def R(u,v,w):\n",
    "    a0=a(u,v)\n",
    "    b1=np.sqrt(a0**2 + 1j*w*mu1*mu0*sigma1)/mu1 \n",
    "    b2=a0/mu1 \n",
    "    ru=(b1+b2)*(a0-b1)+(b1-b2)*(a0+b1)*np.exp(-2*c1*b1)\n",
    "    rd=(b1+b2)*(a0+b1)+(b1-b2)*(a0-b1)*np.exp(-2*c1*b1)\n",
    "    return ru/rd\n",
    "\n",
    "\n",
    "\n",
    "def H(uu,vv,coil):\n",
    "    '''fast H'''\n",
    "    r1,r2,l,n,tita,ji,x0,y0,l0=coil\n",
    "    d=l0 + r2*np.sin(np.abs(tita)) + (l/2)*np.cos(tita)\n",
    "    u=uu*np.cos(ji)+vv*np.sin(ji)\n",
    "    v=-uu*np.sin(ji)+vv*np.cos(ji)\n",
    "    h=1j*n*(M(psi(u,v,tita)*r1,psi(u,v,tita)*r2)*expsin(u,v,d,tita,l))/(psi(u,v,tita)**3)\n",
    "    hp=h*np.exp(1j*uu*x0)*np.exp(1j*vv*y0)\n",
    "    return hp\n",
    "\n",
    "def M(z1,z2,klen=10):\n",
    "    y=z2*special.iv(0,z2)-z1*special.iv(0,z1)-zum(klen,z1,z2)\n",
    "    return y\n",
    "\n",
    "def zum(klen,z1,z2):\n",
    "    x=[]\n",
    "    for k in range(0,klen):\n",
    "        x.append((special.iv(2*k+1,z2)-special.iv(2*k+1,z1))*(-1)**k)\n",
    "    return np.array(x).sum()\n",
    "\n",
    "def expsin(u,v,d,tita,l):\n",
    "    y=np.exp(1j*psi(u,v,tita)*l/2 - a(u,v)*d)-np.exp(-1j*psi(u,v,tita)*l/2 - a(u,v)*d)\n",
    "    return y/2j\n",
    "\n",
    "def int_re(u,v,coil_d,coil_p,w):\n",
    "    return np.real(H(u,v,coil_d)*H(-u,-v,coil_p)*R(u,v,w)/a(u,v))\n",
    "\n",
    "def int_im(u,v,coil_d,coil_p,w):\n",
    "    return np.imag(H(u,v,coil_d)*H(-u,-v,coil_p)*R(u,v,w)/a(u,v))\n",
    "\n",
    "def dZ(coil_d,coil_p,frec,lim=500):\n",
    "    w=2*np.pi*frec\n",
    "\n",
    "    f_im = lambda v, u: int_im(u,v,coil_d,coil_p,w)\n",
    "    f_re = lambda v, u: int_re(u,v,coil_d,coil_p,w)\n",
    "    \n",
    "    dzp_im=2*w*mu0*integrate.dblquad(f_im, 1, lim, lambda u: 1, lambda u: lim)[0]\n",
    "    dzn_im=2*w*mu0*integrate.dblquad(f_im, -lim, -1, lambda u: -lim, lambda u: -1)[0]\n",
    "\n",
    "    dzp_re=2*w*mu0*integrate.dblquad(f_re, 1, lim, lambda u: 1, lambda u: lim)[0]\n",
    "    dzn_re=2*w*mu0*integrate.dblquad(f_re, -lim, -1, lambda u: -lim, lambda u: -1)[0]\n",
    "    \n",
    "    return dzn_re+dzp_re+1j*dzn_im+1j*dzp_im"
   ]
  },
  {
   "cell_type": "code",
   "execution_count": 164,
   "id": "139041d1",
   "metadata": {},
   "outputs": [
    {
     "data": {
      "text/plain": [
       "(-6550.533181130574-139.1401630934366j)"
      ]
     },
     "execution_count": 164,
     "metadata": {},
     "output_type": "execute_result"
    }
   ],
   "source": [
    "u=1\n",
    "v=1\n",
    "H(u,v,coil_d)*H(-u,-v,coil_p)*R(u,v,w)/a(u,v)"
   ]
  },
  {
   "cell_type": "code",
   "execution_count": 165,
   "id": "fc41eb62",
   "metadata": {},
   "outputs": [
    {
     "data": {
      "text/plain": [
       "(-27.3656324008113-5.232338406760126j)"
      ]
     },
     "execution_count": 165,
     "metadata": {},
     "output_type": "execute_result"
    }
   ],
   "source": [
    "dZ(coil_d,coil_p,frec)"
   ]
  },
  {
   "cell_type": "code",
   "execution_count": 103,
   "id": "251baec4",
   "metadata": {},
   "outputs": [],
   "source": [
    "tlim=[]\n",
    "for p in np.logspace(2,3,7):\n",
    "    tlim.append(dZ(coil_d,coil_p,frec,lim=p))\n",
    "    "
   ]
  },
  {
   "cell_type": "code",
   "execution_count": 106,
   "id": "76f3493e",
   "metadata": {},
   "outputs": [
    {
     "data": {
      "text/plain": [
       "[<matplotlib.lines.Line2D at 0x175065b80>]"
      ]
     },
     "execution_count": 106,
     "metadata": {},
     "output_type": "execute_result"
    },
    {
     "data": {
      "image/png": "[encoded data removed]",
      "text/plain": [
       "<Figure size 432x288 with 1 Axes>"
      ]
     },
     "metadata": {
      "needs_background": "light"
     },
     "output_type": "display_data"
    }
   ],
   "source": [
    "plt.semilogx(np.logspace(2,3,7),tlim)"
   ]
  },
  {
   "cell_type": "code",
   "execution_count": 197,
   "id": "8833fe22",
   "metadata": {
    "scrolled": true
   },
   "outputs": [],
   "source": [
    "fv=np.logspace(2,5,10)\n",
    "dZs=[]\n",
    "for f in fv:\n",
    "    dZs.append(dZ(coil_d,coil_p,f))"
   ]
  },
  {
   "cell_type": "code",
   "execution_count": 198,
   "id": "cf0308ba",
   "metadata": {},
   "outputs": [],
   "source": [
    "dMs=np.array(dZs)/(1j*2*np.pi*fv)"
   ]
  },
  {
   "cell_type": "code",
   "execution_count": 191,
   "id": "f4d78bc8",
   "metadata": {},
   "outputs": [
    {
     "data": {
      "text/plain": [
       "array([-8.32752521e-03+0.04355376j, -4.42037107e-03+0.04563465j,\n",
       "       -2.16358638e-03+0.0462732j , -1.05006754e-03+0.04643282j,\n",
       "       -5.57291356e-04+0.04648741j, -3.66466500e-04+0.04655998j,\n",
       "       -2.68695850e-04+0.0466745j , -1.84462524e-04+0.04676518j,\n",
       "       -1.25923486e-04+0.04682429j, -8.59576232e-05+0.04686467j])"
      ]
     },
     "execution_count": 191,
     "metadata": {},
     "output_type": "execute_result"
    }
   ],
   "source": [
    "dMs"
   ]
  },
  {
   "cell_type": "code",
   "execution_count": 199,
   "id": "9f26b8e0",
   "metadata": {},
   "outputs": [
    {
     "data": {
      "image/png": "[encoded data removed]",
      "text/plain": [
       "<Figure size 720x432 with 1 Axes>"
      ]
     },
     "metadata": {
      "needs_background": "light"
     },
     "output_type": "display_data"
    }
   ],
   "source": [
    "plt.figure(figsize=[10,6])\n",
    "plt.semilogx(fv,dMs.real,'o-')\n",
    "plt.grid(True)\n",
    "\n",
    "\n"
   ]
  },
  {
   "cell_type": "code",
   "execution_count": 200,
   "id": "499c8176",
   "metadata": {},
   "outputs": [
    {
     "data": {
      "image/png": "[encoded data removed]",
      "text/plain": [
       "<Figure size 720x432 with 1 Axes>"
      ]
     },
     "metadata": {
      "needs_background": "light"
     },
     "output_type": "display_data"
    }
   ],
   "source": [
    "plt.figure(figsize=[10,6])\n",
    "plt.semilogx(fv,dMs.imag,'o-')\n",
    "plt.grid(True)\n",
    "\n"
   ]
  }
 ],
 "metadata": {
  "kernelspec": {
   "display_name": "Python 3 (ipykernel)",
   "language": "python",
   "name": "python3"
  },
  "language_info": {
   "codemirror_mode": {
    "name": "ipython",
    "version": 3
   },
   "file_extension": ".py",
   "mimetype": "text/x-python",
   "name": "python",
   "nbconvert_exporter": "python",
   "pygments_lexer": "ipython3",
   "version": "3.9.7"
  }
 },
 "nbformat": 4,
 "nbformat_minor": 5
}
